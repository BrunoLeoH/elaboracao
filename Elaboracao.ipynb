{
 "cells": [
  {
   "cell_type": "code",
   "execution_count": null,
   "id": "f9a68a9a",
   "metadata": {},
   "outputs": [],
   "source": [
    "## Elaboração Desenvolvimento de Controle de Qualidade para Questionários da Área da Saúde "
   ]
  },
  {
   "cell_type": "code",
   "execution_count": 1,
   "id": "b3d32e5c",
   "metadata": {},
   "outputs": [
    {
     "name": "stdout",
     "output_type": "stream",
     "text": [
      "OI\n"
     ]
    }
   ],
   "source": [
    "print('OI')"
   ]
  }
 ],
 "metadata": {
  "kernelspec": {
   "display_name": "Python 3 (ipykernel)",
   "language": "python",
   "name": "python3"
  },
  "language_info": {
   "codemirror_mode": {
    "name": "ipython",
    "version": 3
   },
   "file_extension": ".py",
   "mimetype": "text/x-python",
   "name": "python",
   "nbconvert_exporter": "python",
   "pygments_lexer": "ipython3",
   "version": "3.9.13"
  }
 },
 "nbformat": 4,
 "nbformat_minor": 5
}
